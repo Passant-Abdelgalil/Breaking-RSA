{
 "cells": [
  {
   "cell_type": "code",
   "execution_count": 190,
   "metadata": {},
   "outputs": [],
   "source": [
    "def PowMod(a, n, mod):\n",
    "    if n == 0:\n",
    "        return 1 % mod\n",
    "    elif n == 1:\n",
    "        return a % mod\n",
    "    else:\n",
    "        b = PowMod(a, n // 2, mod)\n",
    "        b = b * b % mod\n",
    "    if n % 2 == 0:\n",
    "        return b\n",
    "    else:\n",
    "        return b * a % mod"
   ]
  },
  {
   "cell_type": "code",
   "execution_count": 191,
   "metadata": {},
   "outputs": [
    {
     "data": {
      "text/plain": [
       "83442498952026363243597635953939619981451907091374615228655759347278703961864278268479672229015424943216075773307732606381365258679946149799120936993"
      ]
     },
     "execution_count": 191,
     "metadata": {},
     "output_type": "execute_result"
    }
   ],
   "source": [
    "def ConvertToInt(message_str):\n",
    "    res = 0\n",
    "    for i in range(len(message_str)):\n",
    "        res = res * 256 + ord(message_str[i])\n",
    "    \n",
    "    # res=[string.ascii_lowercase.index(s)+1 for s in message_str.lower()]\n",
    "   \n",
    "    # res = list(string.ascii_lowercase)\n",
    "\n",
    "    # for c in message_str:\n",
    "    #     res = res + int(str(ord(c)).zfill(3))\n",
    "\n",
    "    return res\n",
    "\n",
    "ConvertToInt(\"hii thereeeeeeeeeeeeeeeeeeeeeeeeeeeeeeeeeeeeeeeeeeeeeeeeeeee !\")\n"
   ]
  },
  {
   "cell_type": "code",
   "execution_count": 192,
   "metadata": {},
   "outputs": [
    {
     "data": {
      "text/plain": [
       "'hii thereeeeeeeeeeeeeeeeeeeeeeeeeeeeeeeeeeeeeeeeeeeeeeeeeeee !'"
      ]
     },
     "execution_count": 192,
     "metadata": {},
     "output_type": "execute_result"
    }
   ],
   "source": [
    "def ConvertToStr(n):\n",
    "    res = ''\n",
    "    while n > 0:\n",
    "        res += chr(n % 256)\n",
    "        n //= 256\n",
    "    return res[::-1]\n",
    "    # i=0\n",
    "    # while i <  len(str(abs(n))) :\n",
    "    #     res = res + str( chr( int( str(n)[i:i+3] ) ) )\n",
    "    #     i=i+3\n",
    "\n",
    "    return res\n",
    "\n",
    "# ConvertToStr(104105105032116104101114101101101101101101101101101101101101101101101101101101101101101101101101101101101101101101101101101101101101101101101101101101101101101101101101101101101101032033)\n",
    "ConvertToStr(83442498952026363243597635953939619981451907091374615228655759347278703961864278268479672229015424943216075773307732606381365258679946149799120936993)"
   ]
  },
  {
   "cell_type": "code",
   "execution_count": 193,
   "metadata": {},
   "outputs": [],
   "source": [
    "def extended_gcd(a,b):\n",
    "    if b==0:\n",
    "        d,x,y=a,1,0\n",
    "    else:\n",
    "        (d,p,q)=extended_gcd(b,a%b)\n",
    "        x=q\n",
    "        y=p-q* (a//b)\n",
    "    return (d,x,y)"
   ]
  },
  {
   "cell_type": "code",
   "execution_count": 194,
   "metadata": {},
   "outputs": [],
   "source": [
    "def RSA_Encrypt(m, p, q, e): #e:public exponent\n",
    "    n=p*q\n",
    "    c=PowMod( ConvertToInt(m) ,e ,n ) \n",
    "    return c\n"
   ]
  },
  {
   "cell_type": "code",
   "execution_count": 195,
   "metadata": {},
   "outputs": [],
   "source": [
    "def RSA_Decrypt(c, p, q, e): #e:public exponent\n",
    "    n=p*q\n",
    "    phi_n=(p-1)*(q-1) #4*2=8\n",
    "    result,x,y=extended_gcd(e,phi_n) \n",
    "    d=x #d:private key \n",
    "    if d < 0:\n",
    "        d = (d % phi_n + phi_n) % phi_n # we don’t want −ve integers\n",
    "    m=ConvertToStr( PowMod( c,d,n ) )\n",
    "    return m"
   ]
  },
  {
   "cell_type": "code",
   "execution_count": 206,
   "metadata": {},
   "outputs": [
    {
     "name": "stdout",
     "output_type": "stream",
     "text": [
      "±\u0001åÎù\n",
      "hello !\n"
     ]
    }
   ],
   "source": [
    "p = 1000000007\n",
    "q = 1000000009\n",
    "exponent = 23917\n",
    "ciphertext = RSA_Encrypt(\"hello passant !\", p, q, exponent)\n",
    "message = RSA_Decrypt(ciphertext, p, q, exponent)\n",
    "print(message)\n",
    "\n",
    "ciphertext = RSA_Encrypt(\"hello !\", p, q, exponent)\n",
    "message = RSA_Decrypt(ciphertext, p, q, exponent)\n",
    "print(message)"
   ]
  }
 ],
 "metadata": {
  "interpreter": {
   "hash": "369f2c481f4da34e4445cda3fffd2e751bd1c4d706f27375911949ba6bb62e1c"
  },
  "kernelspec": {
   "display_name": "Python 3.10.0 64-bit",
   "language": "python",
   "name": "python3"
  },
  "language_info": {
   "codemirror_mode": {
    "name": "ipython",
    "version": 3
   },
   "file_extension": ".py",
   "mimetype": "text/x-python",
   "name": "python",
   "nbconvert_exporter": "python",
   "pygments_lexer": "ipython3",
   "version": "3.10.0"
  },
  "orig_nbformat": 4
 },
 "nbformat": 4,
 "nbformat_minor": 2
}
