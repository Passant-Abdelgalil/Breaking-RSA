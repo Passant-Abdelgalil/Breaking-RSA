{
 "cells": [
  {
   "cell_type": "code",
   "execution_count": 190,
   "metadata": {},
   "outputs": [],
   "source": [
    "def PowMod(a, n, mod):\n",
    "    if n == 0:\n",
    "        return 1 % mod\n",
    "    elif n == 1:\n",
    "        return a % mod\n",
    "    else:\n",
    "        b = PowMod(a, n // 2, mod)\n",
    "        b = b * b % mod\n",
    "    if n % 2 == 0:\n",
    "        return b\n",
    "    else:\n",
    "        return b * a % mod"
   ]
  },
  {
   "cell_type": "code",
   "execution_count": 191,
   "metadata": {},
   "outputs": [
    {
     "data": {
      "text/plain": [
       "83442498952026363243597635953939619981451907091374615228655759347278703961864278268479672229015424943216075773307732606381365258679946149799120936993"
      ]
     },
     "execution_count": 191,
     "metadata": {},
     "output_type": "execute_result"
    }
   ],
   "source": [
    "def ConvertToInt(message_str):\n",
    "    res = 0\n",
    "    for i in range(len(message_str)):\n",
    "        res = res * 256 + ord(message_str[i])\n",
    "    \n",
    "    # res=[string.ascii_lowercase.index(s)+1 for s in message_str.lower()]\n",
    "   \n",
    "    # res = list(string.ascii_lowercase)\n",
    "\n",
    "    # for c in message_str:\n",
    "    #     res = res + int(str(ord(c)).zfill(3))\n",
    "\n",
    "    return res\n",
    "\n",
    "ConvertToInt(\"hii thereeeeeeeeeeeeeeeeeeeeeeeeeeeeeeeeeeeeeeeeeeeeeeeeeeee !\")\n"
   ]
  },
  {
   "cell_type": "code",
   "execution_count": 192,
   "metadata": {},
   "outputs": [
    {
     "data": {
      "text/plain": [
       "'hii thereeeeeeeeeeeeeeeeeeeeeeeeeeeeeeeeeeeeeeeeeeeeeeeeeeee !'"
      ]
     },
     "execution_count": 192,
     "metadata": {},
     "output_type": "execute_result"
    }
   ],
   "source": [
    "def ConvertToStr(n):\n",
    "    res = ''\n",
    "    while n > 0:\n",
    "        res += chr(n % 256)\n",
    "        n //= 256\n",
    "    return res[::-1]\n",
    "    # i=0\n",
    "    # while i <  len(str(abs(n))) :\n",
    "    #     res = res + str( chr( int( str(n)[i:i+3] ) ) )\n",
    "    #     i=i+3\n",
    "\n",
    "    return res\n",
    "\n",
    "# ConvertToStr(104105105032116104101114101101101101101101101101101101101101101101101101101101101101101101101101101101101101101101101101101101101101101101101101101101101101101101101101101101101101032033)\n",
    "ConvertToStr(83442498952026363243597635953939619981451907091374615228655759347278703961864278268479672229015424943216075773307732606381365258679946149799120936993)"
   ]
  },
  {
   "cell_type": "code",
   "execution_count": 193,
   "metadata": {},
   "outputs": [],
   "source": [
    "def extended_gcd(a,b):\n",
    "    if b==0:\n",
    "        d,x,y=a,1,0\n",
    "    else:\n",
    "        (d,p,q)=extended_gcd(b,a%b)\n",
    "        x=q\n",
    "        y=p-q* (a//b)\n",
    "    return (d,x,y)"
   ]
  },
  {
   "cell_type": "code",
   "execution_count": 194,
   "metadata": {},
   "outputs": [],
   "source": [
    "def RSA_Encrypt(m, p, q, e): #e:public exponent\n",
    "    n=p*q\n",
    "    c=PowMod( ConvertToInt(m) ,e ,n ) \n",
    "    return c\n"
   ]
  },
  {
   "cell_type": "code",
   "execution_count": 195,
   "metadata": {},
   "outputs": [],
   "source": [
    "def RSA_Decrypt(c, p, q, e): #e:public exponent\n",
    "    n=p*q\n",
    "    phi_n=(p-1)*(q-1) \n",
    "    result,x,y=extended_gcd(e,phi_n) \n",
    "    d=x #d:private key \n",
    "    if d < 0:\n",
    "        d = (d % phi_n + phi_n) % phi_n # we don’t want −ve integers\n",
    "    m=ConvertToStr( PowMod( c,d,n ) )\n",
    "    return m"
   ]
  },
  {
   "cell_type": "code",
   "execution_count": 224,
   "metadata": {},
   "outputs": [],
   "source": [
    "# Large Prime Generation for RSA\n",
    "import random\n",
    "\n",
    "# Pre generated primes\n",
    "first_primes_list = [2, 3, 5, 7, 11, 13, 17, 19, 23, 29,\n",
    "\t\t\t\t\t31, 37, 41, 43, 47, 53, 59, 61, 67,\n",
    "\t\t\t\t\t71, 73, 79, 83, 89, 97, 101, 103,\n",
    "\t\t\t\t\t107, 109, 113, 127, 131, 137, 139,\n",
    "\t\t\t\t\t149, 151, 157, 163, 167, 173, 179,\n",
    "\t\t\t\t\t181, 191, 193, 197, 199, 211, 223,\n",
    "\t\t\t\t\t227, 229, 233, 239, 241, 251, 257,\n",
    "\t\t\t\t\t263, 269, 271, 277, 281, 283, 293,\n",
    "\t\t\t\t\t307, 311, 313, 317, 331, 337, 347, 349]\n",
    "\n",
    "def nBitRandom(n):\n",
    "\treturn random.randrange(2**(n-1)+1, 2**n - 1)\n",
    "\n",
    "def getLowLevelPrime(n):\n",
    "\t'''Generate a prime candidate divisible\n",
    "\tby first primes'''\n",
    "\twhile True:\n",
    "\t\t# Obtain a random number\n",
    "\t\tpc = nBitRandom(n)\n",
    "\n",
    "\t\t# Test divisibility by pre-generated\n",
    "\t\t# primes\n",
    "\t\tfor divisor in first_primes_list:\n",
    "\t\t\tif pc % divisor == 0 and divisor**2 <= pc:\n",
    "\t\t\t\tbreak\n",
    "\t\telse: return pc\n",
    "\n",
    "def isMillerRabinPassed(mrc):\n",
    "\t'''Run 20 iterations of Rabin Miller Primality test'''\n",
    "\tmaxDivisionsByTwo = 0\n",
    "\tec = mrc-1\n",
    "\twhile ec % 2 == 0:\n",
    "\t\tec >>= 1\n",
    "\t\tmaxDivisionsByTwo += 1\n",
    "\tassert(2**maxDivisionsByTwo * ec == mrc-1)\n",
    "\n",
    "\tdef trialComposite(round_tester):\n",
    "\t\tif pow(round_tester, ec, mrc) == 1:\n",
    "\t\t\treturn False\n",
    "\t\tfor i in range(maxDivisionsByTwo):\n",
    "\t\t\tif pow(round_tester, 2**i * ec, mrc) == mrc-1:\n",
    "\t\t\t\treturn False\n",
    "\t\treturn True\n",
    "\n",
    "\t# Set number of trials here\n",
    "\tnumberOfRabinTrials = 20\n",
    "\tfor i in range(numberOfRabinTrials):\n",
    "\t\tround_tester = random.randrange(2, mrc)\n",
    "\t\tif trialComposite(round_tester):\n",
    "\t\t\treturn False\n",
    "\treturn True\n",
    "\n",
    "\n"
   ]
  },
  {
   "cell_type": "code",
   "execution_count": 228,
   "metadata": {},
   "outputs": [
    {
     "name": "stdout",
     "output_type": "stream",
     "text": [
      "Take care ! You are watched !\n",
      "hello !\n"
     ]
    }
   ],
   "source": [
    "\n",
    "arr=[0,0]\n",
    "for i in range(2):\n",
    "    while True:\n",
    "        n = 256\n",
    "        prime_candidate = getLowLevelPrime(n)\n",
    "        if not isMillerRabinPassed(prime_candidate):\n",
    "            continue\n",
    "        else:\n",
    "            # print(n, \"bit prime is: \\n\", prime_candidate)\n",
    "            arr[i]=prime_candidate\n",
    "            break\n",
    "\n",
    "exponent = 23917\n",
    "ciphertext = RSA_Encrypt(\"Take care ! You are watched !\", arr[0], arr[1], exponent)\n",
    "message = RSA_Decrypt(ciphertext, arr[0], arr[1], exponent)\n",
    "print(message)\n",
    "\n",
    "# m must be smaller than n (0≤M<n)\n",
    "ciphertext = RSA_Encrypt(\"hello !\", arr[0], arr[1], exponent)\n",
    "message = RSA_Decrypt(ciphertext, arr[0], arr[1], exponent)\n",
    "print(message)"
   ]
  },
  {
   "cell_type": "code",
   "execution_count": 232,
   "metadata": {},
   "outputs": [
    {
     "name": "stdout",
     "output_type": "stream",
     "text": [
      "fine\n",
      "now\n",
      "\n"
     ]
    }
   ],
   "source": [
    "# stop on pressing enter\n",
    "data = input()\n",
    "while data != \"\":\n",
    "    data = input()\n",
    "    print(data)"
   ]
  }
 ],
 "metadata": {
  "interpreter": {
   "hash": "369f2c481f4da34e4445cda3fffd2e751bd1c4d706f27375911949ba6bb62e1c"
  },
  "kernelspec": {
   "display_name": "Python 3.10.0 64-bit",
   "language": "python",
   "name": "python3"
  },
  "language_info": {
   "codemirror_mode": {
    "name": "ipython",
    "version": 3
   },
   "file_extension": ".py",
   "mimetype": "text/x-python",
   "name": "python",
   "nbconvert_exporter": "python",
   "pygments_lexer": "ipython3",
   "version": "3.10.0"
  },
  "orig_nbformat": 4
 },
 "nbformat": 4,
 "nbformat_minor": 2
}
