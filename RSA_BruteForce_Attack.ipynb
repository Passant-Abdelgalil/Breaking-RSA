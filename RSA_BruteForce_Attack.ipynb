{
 "cells": [
  {
   "cell_type": "code",
   "execution_count": null,
   "metadata": {},
   "outputs": [],
   "source": [
    "# brute force attack\n",
    "\n",
    "# from itertools import product\n",
    "\n",
    "# alphabets_char_numbers = ['a', 'b', 'c', 'd', 'e', 'f', 'g', 'h', 'i', 'j', 'k', 'l', 'm', 'n', \n",
    "# 'o', 'p', 'q', 'r', 's', 't', 'u', 'v', 'w', 'x', 'y', 'z','0','1','2','3', '4','5','6','7','8','9',\n",
    "# '!','@','#','$','%','^','&','*','(',')','-','_','=','+',',',';',':','/','.','<','>'\n",
    "# ]\n",
    "#  # chars to look for\n",
    "\n",
    "# message='$%rema'\n",
    "# found=0\n",
    "\n",
    "# for length in range(1, 10): # only do lengths of 1 + 2\n",
    "#     to_attempt = product(alphabets_char_numbers, repeat=length)\n",
    "#     for attempt in to_attempt:\n",
    "#         if message==''.join(attempt):\n",
    "#             found=1\n",
    "#             print(''.join(attempt))\n",
    "#             break\n",
    "\n",
    "#     if found ==1:\n",
    "#         break"
   ]
  },
  {
   "cell_type": "code",
   "execution_count": 1,
   "metadata": {},
   "outputs": [
    {
     "name": "stdout",
     "output_type": "stream",
     "text": [
      "importing Jupyter notebook from RSA.ipynb\n"
     ]
    }
   ],
   "source": [
    "import import_ipynb\n",
    "import RSA\n"
   ]
  },
  {
   "cell_type": "code",
   "execution_count": 1,
   "metadata": {},
   "outputs": [],
   "source": [
    "def checkPrime(num):\n",
    "    if num > 1:\n",
    "        for i in range(2, num//2):\n",
    "            if (num % i) == 0:\n",
    "                return 0 #not prime\n",
    "                break\n",
    "            else:\n",
    "                return 1 #prime\n",
    "    else:\n",
    "        return 0 #not prime"
   ]
  },
  {
   "cell_type": "code",
   "execution_count": 2,
   "metadata": {},
   "outputs": [],
   "source": [
    "def getFactors(number, rangeF,rangeL):\n",
    "    factors=[]\n",
    "    for whole_number in range(rangeF, rangeL):\n",
    "        if number % whole_number == 0:\n",
    "            if(checkPrime(whole_number) ):\n",
    "                factors.append(whole_number)\n",
    "    return factors"
   ]
  },
  {
   "cell_type": "code",
   "execution_count": 2,
   "metadata": {},
   "outputs": [],
   "source": [
    "def MAth_Attack(c, n, e):\n",
    "    listOfFactors=getFactors(n,1,1000000) #search for the prime facor\n",
    "    \n",
    "    for p in listOfFactors:\n",
    "        q=n//p\n",
    "        m = RSA_Decrypt(c, p, q, e)\n",
    "        c1= RSA_Encrypt(m,p, q,e)\n",
    "        if c1 == c :\n",
    "            return m\n",
    "    return \"can't know the message\""
   ]
  }
 ],
 "metadata": {
  "interpreter": {
   "hash": "369f2c481f4da34e4445cda3fffd2e751bd1c4d706f27375911949ba6bb62e1c"
  },
  "kernelspec": {
   "display_name": "Python 3.10.0 64-bit",
   "language": "python",
   "name": "python3"
  },
  "language_info": {
   "codemirror_mode": {
    "name": "ipython",
    "version": 3
   },
   "file_extension": ".py",
   "mimetype": "text/x-python",
   "name": "python",
   "nbconvert_exporter": "python",
   "pygments_lexer": "ipython3",
   "version": "3.10.0"
  },
  "orig_nbformat": 4
 },
 "nbformat": 4,
 "nbformat_minor": 2
}
