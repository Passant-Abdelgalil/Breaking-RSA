{
 "cells": [
  {
   "cell_type": "code",
   "execution_count": null,
   "metadata": {},
   "outputs": [],
   "source": [
    "# brute force attack\n",
    "\n",
    "# from itertools import product\n",
    "\n",
    "# alphabets_char_numbers = ['a', 'b', 'c', 'd', 'e', 'f', 'g', 'h', 'i', 'j', 'k', 'l', 'm', 'n', \n",
    "# 'o', 'p', 'q', 'r', 's', 't', 'u', 'v', 'w', 'x', 'y', 'z','0','1','2','3', '4','5','6','7','8','9',\n",
    "# '!','@','#','$','%','^','&','*','(',')','-','_','=','+',',',';',':','/','.','<','>'\n",
    "# ]\n",
    "#  # chars to look for\n",
    "\n",
    "# message='$%rema'\n",
    "# found=0\n",
    "\n",
    "# for length in range(1, 10): # only do lengths of 1 + 2\n",
    "#     to_attempt = product(alphabets_char_numbers, repeat=length)\n",
    "#     for attempt in to_attempt:\n",
    "#         if message==''.join(attempt):\n",
    "#             found=1\n",
    "#             print(''.join(attempt))\n",
    "#             break\n",
    "\n",
    "#     if found ==1:\n",
    "#         break"
   ]
  }
 ],
 "metadata": {
  "language_info": {
   "name": "python"
  },
  "orig_nbformat": 4
 },
 "nbformat": 4,
 "nbformat_minor": 2
}
