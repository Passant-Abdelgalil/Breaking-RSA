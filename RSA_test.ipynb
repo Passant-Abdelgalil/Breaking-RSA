{
 "cells": [
  {
   "cell_type": "code",
   "execution_count": 11,
   "metadata": {},
   "outputs": [],
   "source": [
    "import RSA\n",
    "import random"
   ]
  },
  {
   "cell_type": "code",
   "execution_count": 13,
   "metadata": {},
   "outputs": [
    {
     "name": "stdout",
     "output_type": "stream",
     "text": [
      "1427996512606023931348510643778903111863605533953000642040566236677023265290922050611393701109196293517688013120990482617384100700998399646635648176982889 62886536232710831933359347287618084885709115419904591620756739320153095607683 98604068758683781579086800571945756046032288017385139983810230040047785723609\n",
      "Take care ! You are watched !\n",
      "hello !\n"
     ]
    }
   ],
   "source": [
    "arr=RSA.generate_two_large_primes()\n",
    "phi_n=(arr[0]-1)*(arr[1]-1) \n",
    "n=(arr[0])*(arr[1]) \n",
    "\n",
    "d=0\n",
    "while d != 1:\n",
    "    exponent=random.randrange(2,phi_n)\n",
    "    d,x,y=RSA.extended_gcd(exponent,phi_n)\n",
    "    # print(\"e: \",exponent,\"d: \",d)\n",
    "\n",
    "# exponent = RSA.generate_e(phi_n) #23917\n",
    "print(exponent,arr[0], arr[1])\n",
    "\n",
    "ciphertext = RSA.RSA_Encrypt(\"Take care ! You are watched !\", n, exponent)\n",
    "message = RSA.RSA_Decrypt(ciphertext, arr[0], arr[1], exponent)\n",
    "print(message)\n",
    "\n",
    "# m must be smaller than n (0≤M<n)\n",
    "ciphertext = RSA.RSA_Encrypt(\"hello !\", n, exponent)\n",
    "message = RSA.RSA_Decrypt(ciphertext, arr[0], arr[1], exponent)\n",
    "print(message)"
   ]
  },
  {
   "cell_type": "code",
   "execution_count": null,
   "metadata": {},
   "outputs": [],
   "source": [
    "# stop on pressing enter\n",
    "# data = input()\n",
    "# while data != \"\":\n",
    "#     data = input()\n",
    "#     print(data)"
   ]
  }
 ],
 "metadata": {
  "interpreter": {
   "hash": "369f2c481f4da34e4445cda3fffd2e751bd1c4d706f27375911949ba6bb62e1c"
  },
  "kernelspec": {
   "display_name": "Python 3.10.0 64-bit",
   "language": "python",
   "name": "python3"
  },
  "language_info": {
   "codemirror_mode": {
    "name": "ipython",
    "version": 3
   },
   "file_extension": ".py",
   "mimetype": "text/x-python",
   "name": "python",
   "nbconvert_exporter": "python",
   "pygments_lexer": "ipython3",
   "version": "3.10.0"
  },
  "orig_nbformat": 4
 },
 "nbformat": 4,
 "nbformat_minor": 2
}
