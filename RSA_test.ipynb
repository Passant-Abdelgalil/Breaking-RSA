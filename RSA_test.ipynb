{
 "cells": [
  {
   "cell_type": "code",
   "execution_count": 53,
   "metadata": {},
   "outputs": [],
   "source": [
    "import RSA\n",
    "import random"
   ]
  },
  {
   "cell_type": "code",
   "execution_count": 60,
   "metadata": {},
   "outputs": [
    {
     "name": "stdout",
     "output_type": "stream",
     "text": [
      "735187307469119781534175199874521047923270107557995373915484496751766783292728670511976182278919448545568632350405357644150296657872849252513162367105229 108673131792718418462985555208147562917548079560842361461271653305335955844833 89585368130374720540268208426724457647276308683513124749296324682100738182267\n",
      "Take care ! You are watched !\n",
      "hello !\n"
     ]
    }
   ],
   "source": [
    "arr=RSA.generate_two_large_primes(256)\n",
    "phi_n=(arr[0]-1)*(arr[1]-1) \n",
    "\n",
    "d=0\n",
    "while d != 1:\n",
    "    exponent=random.randrange(2,phi_n)\n",
    "    d,x,y=RSA.extended_gcd(exponent,phi_n)\n",
    "    # print(\"e: \",exponent,\"d: \",d)\n",
    "\n",
    "# exponent = RSA.generate_e(phi_n) #23917\n",
    "print(exponent,arr[0], arr[1])\n",
    "\n",
    "ciphertext = RSA.RSA_Encrypt(\"Take care ! You are watched !\", arr[0], arr[1], exponent)\n",
    "message = RSA.RSA_Decrypt(ciphertext, arr[0], arr[1], exponent)\n",
    "print(message)\n",
    "\n",
    "# m must be smaller than n (0≤M<n)\n",
    "ciphertext = RSA.RSA_Encrypt(\"hello !\", arr[0], arr[1], exponent)\n",
    "message = RSA.RSA_Decrypt(ciphertext, arr[0], arr[1], exponent)\n",
    "print(message)"
   ]
  },
  {
   "cell_type": "code",
   "execution_count": 3,
   "metadata": {},
   "outputs": [],
   "source": [
    "# stop on pressing enter\n",
    "# data = input()\n",
    "# while data != \"\":\n",
    "#     data = input()\n",
    "#     print(data)"
   ]
  }
 ],
 "metadata": {
  "interpreter": {
   "hash": "369f2c481f4da34e4445cda3fffd2e751bd1c4d706f27375911949ba6bb62e1c"
  },
  "kernelspec": {
   "display_name": "Python 3.10.0 64-bit",
   "language": "python",
   "name": "python3"
  },
  "language_info": {
   "codemirror_mode": {
    "name": "ipython",
    "version": 3
   },
   "file_extension": ".py",
   "mimetype": "text/x-python",
   "name": "python",
   "nbconvert_exporter": "python",
   "pygments_lexer": "ipython3",
   "version": "3.10.0"
  },
  "orig_nbformat": 4
 },
 "nbformat": 4,
 "nbformat_minor": 2
}
