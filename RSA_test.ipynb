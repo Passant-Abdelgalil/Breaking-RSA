{
 "cells": [
  {
   "cell_type": "code",
   "execution_count": 1,
   "metadata": {},
   "outputs": [],
   "source": [
    "import RSA"
   ]
  },
  {
   "cell_type": "code",
   "execution_count": 2,
   "metadata": {},
   "outputs": [
    {
     "name": "stdout",
     "output_type": "stream",
     "text": [
      "76327548707654631819288365217926676480014891572829522940868712753524331330993 69456893419622706704072762858457751909086271322732082866554766081324404294541\n",
      "Take care ! You are watched !\n",
      "hello !\n"
     ]
    }
   ],
   "source": [
    "arr=RSA.generate_two_large_primes()\n",
    "exponent = 23917\n",
    "print(arr[0], arr[1])\n",
    "\n",
    "ciphertext = RSA.RSA_Encrypt(\"Take care ! You are watched !\", arr[0], arr[1], exponent)\n",
    "message = RSA.RSA_Decrypt(ciphertext, arr[0], arr[1], exponent)\n",
    "print(message)\n",
    "\n",
    "# m must be smaller than n (0≤M<n)\n",
    "ciphertext = RSA.RSA_Encrypt(\"hello !\", arr[0], arr[1], exponent)\n",
    "message = RSA.RSA_Decrypt(ciphertext, arr[0], arr[1], exponent)\n",
    "print(message)"
   ]
  },
  {
   "cell_type": "code",
   "execution_count": 3,
   "metadata": {},
   "outputs": [],
   "source": [
    "# stop on pressing enter\n",
    "# data = input()\n",
    "# while data != \"\":\n",
    "#     data = input()\n",
    "#     print(data)"
   ]
  }
 ],
 "metadata": {
  "interpreter": {
   "hash": "369f2c481f4da34e4445cda3fffd2e751bd1c4d706f27375911949ba6bb62e1c"
  },
  "kernelspec": {
   "display_name": "Python 3.10.0 64-bit",
   "language": "python",
   "name": "python3"
  },
  "language_info": {
   "codemirror_mode": {
    "name": "ipython",
    "version": 3
   },
   "file_extension": ".py",
   "mimetype": "text/x-python",
   "name": "python",
   "nbconvert_exporter": "python",
   "pygments_lexer": "ipython3",
   "version": "3.10.0"
  },
  "orig_nbformat": 4
 },
 "nbformat": 4,
 "nbformat_minor": 2
}
