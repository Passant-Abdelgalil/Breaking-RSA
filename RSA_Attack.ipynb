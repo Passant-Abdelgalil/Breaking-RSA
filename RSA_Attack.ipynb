{
 "cells": [
  {
   "cell_type": "code",
   "execution_count": 2,
   "metadata": {},
   "outputs": [],
   "source": [
    "# brute force attack\n",
    "\n",
    "# from itertools import product\n",
    "\n",
    "# alphabets_char_numbers = ['a', 'b', 'c', 'd', 'e', 'f', 'g', 'h', 'i', 'j', 'k', 'l', 'm', 'n', \n",
    "# 'o', 'p', 'q', 'r', 's', 't', 'u', 'v', 'w', 'x', 'y', 'z','0','1','2','3', '4','5','6','7','8','9',\n",
    "# '!','@','#','$','%','^','&','*','(',')','-','_','=','+',',',';',':','/','.','<','>'\n",
    "# ]\n",
    "#  # chars to look for\n",
    "\n",
    "# message='$%rema'\n",
    "# found=0\n",
    "\n",
    "# for length in range(1, 10): # only do lengths of 1 + 2\n",
    "#     to_attempt = product(alphabets_char_numbers, repeat=length)\n",
    "#     for attempt in to_attempt:\n",
    "#         if message==''.join(attempt):\n",
    "#             found=1\n",
    "#             print(''.join(attempt))\n",
    "#             break\n",
    "\n",
    "#     if found ==1:\n",
    "#         break"
   ]
  },
  {
   "cell_type": "code",
   "execution_count": 3,
   "metadata": {},
   "outputs": [],
   "source": [
    "# import numpy as np\n",
    "# import matplotlib.pyplot as plt\n",
    "\n",
    "# x = np.array([5, 4, 1, 4, 5])\n",
    "# y = np.sort(x)\n",
    "\n",
    "# plt.title(\"Line graph\")\n",
    "# plt.plot(x, y, color=\"red\")\n",
    "\n",
    "# plt.show()"
   ]
  },
  {
   "cell_type": "code",
   "execution_count": 4,
   "metadata": {},
   "outputs": [],
   "source": [
    "import RSA\n",
    "import timeit\n",
    "import random\n",
    "import numpy as np\n",
    "import matplotlib.pyplot as plt\n",
    "\n"
   ]
  },
  {
   "cell_type": "code",
   "execution_count": 5,
   "metadata": {},
   "outputs": [],
   "source": [
    "def checkPrime(num):\n",
    "    if num > 1:\n",
    "        for i in range(2, num//2):\n",
    "            if (num % i) == 0:\n",
    "                return 0 #not prime\n",
    "                break\n",
    "            else:\n",
    "                return 1 #prime\n",
    "    else:\n",
    "        return 0 #not prime"
   ]
  },
  {
   "cell_type": "code",
   "execution_count": 6,
   "metadata": {},
   "outputs": [],
   "source": [
    "# def getFactors(number, rangeF,rangeL):\n",
    "#     factors=[]\n",
    "#     for whole_number in range(rangeF, rangeL):\n",
    "#         if number % whole_number == 0:\n",
    "#             if(checkPrime(whole_number) ):\n",
    "#                 factors.append(whole_number)\n",
    "#     return factors"
   ]
  },
  {
   "cell_type": "code",
   "execution_count": 10,
   "metadata": {},
   "outputs": [],
   "source": [
    "def MAth_Attack(c, n, e):\n",
    "    # listOfFactors=getFactors(n,1,1000000) #search for the small prime facor\n",
    "    # listOfFactors=getFactors(n,1, n) #search for the large prime facor\n",
    "    #76327548707654631819288365217926676480014891572829522940868712753524331330993\n",
    "    for p in range(1, n):\n",
    "        if n % p == 0:\n",
    "            if(checkPrime(p)):\n",
    "                q=n//p\n",
    "                m = RSA.RSA_Decrypt(c, p, q, e)\n",
    "                c1= RSA.RSA_Encrypt(m,n,e)\n",
    "                if c1 == c :\n",
    "                    return m\n",
    "    return \"can't know the message\""
   ]
  },
  {
   "cell_type": "code",
   "execution_count": 11,
   "metadata": {},
   "outputs": [],
   "source": [
    "def generate_two_large_primes(n):\n",
    "    arr=[0,0]\n",
    "    for i in range(2):\n",
    "        while True:\n",
    "            #n = 256\n",
    "            prime_candidate = RSA.getLowLevelPrime(n)\n",
    "            if not RSA.isMillerRabinPassed(prime_candidate):\n",
    "                continue\n",
    "            else:\n",
    "                # print(n, \"bit prime is: \\n\", prime_candidate)\n",
    "                arr[i]=prime_candidate\n",
    "                break\n",
    "    return arr"
   ]
  },
  {
   "cell_type": "code",
   "execution_count": 15,
   "metadata": {},
   "outputs": [
    {
     "name": "stdout",
     "output_type": "stream",
     "text": [
      "time:  8.37000000046828e-05  message:  a  p/q bits:  9  n:  175477.0\n",
      "time:  0.00037380000003395253  message:  ab  p/q bits:  12  n:  4839217.0\n",
      "time:  0.008173299999953088  message:  abc  p/q bits:  16  n:  1890103289.0\n",
      "time:  0.03241699999989578  message:  abcd  p/q bits:  17  n:  7235768303.0\n",
      "time:  0.35948309999980665  message:  ZZZZZ  p/q bits:  20  n:  686825142803.0\n",
      "time:  4.127388600000131  message:  reem12  p/q bits:  24  n:  156551557298813.0\n",
      "time:  120.13880989999984  message:  reema12  p/q bits:  29  n:  1.0868836705463384e+17\n",
      "time:  10147.9381766  message:  reema123  p/q bits:  34  n:  1.8010815294149034e+20\n"
     ]
    },
    {
     "data": {
      "image/png": "[encoded data removed]",
      "text/plain": [
       "<Figure size 432x288 with 1 Axes>"
      ]
     },
     "metadata": {
      "needs_background": "light"
     },
     "output_type": "display_data"
    }
   ],
   "source": [
    "\n",
    "arr_nBits=[9,12,16,17,20,24,29,34]\n",
    "arr_message=[\"a\",\"ab\",\"abc\",'abcd', 'ZZZZZ','reem12','reema12','reema123']\n",
    "arr_time=np.zeros(len(arr_nBits))\n",
    "arr_n=np.zeros(len(arr_nBits))\n",
    "\n",
    "for i in range(len(arr_nBits)):\n",
    "    p,q=generate_two_large_primes(arr_nBits[i])\n",
    "    n=p*q\n",
    "    arr_n[i]=n\n",
    "    phi_n=(p-1)*(q-1) \n",
    "\n",
    "    # generate e\n",
    "    # exponent = 23917\n",
    "    d=0\n",
    "    while d != 1:\n",
    "        exponent=random.randrange(2,phi_n)\n",
    "        d,x,y=RSA.extended_gcd(exponent,phi_n)\n",
    "\n",
    "    ciphertext = RSA.RSA_Encrypt(arr_message[i], n, exponent)\n",
    "    #m:6 letters, n:64 bit\n",
    "\n",
    "    start = timeit.default_timer() \n",
    "    # attacker only know n and e\n",
    "    mesg_guessed_byAttacker=MAth_Attack(ciphertext, n, exponent)\n",
    "    arr_time[i]= timeit.default_timer()  - start\n",
    "    print('time: ',arr_time[i],' message: ',mesg_guessed_byAttacker, ' p/q bits: ',arr_nBits[i], ' n: ',arr_n[i])\n",
    "\n",
    "plt.title(\"Time taken by attack versus n\")\n",
    "plt.plot(arr_n, arr_time, color=\"red\")\n",
    "plt.ylabel(\"Time\")\n",
    "plt.xlabel(\"n\")\n",
    "plt.show()\n"
   ]
  }
 ],
 "metadata": {
  "interpreter": {
   "hash": "369f2c481f4da34e4445cda3fffd2e751bd1c4d706f27375911949ba6bb62e1c"
  },
  "kernelspec": {
   "display_name": "Python 3.10.0 64-bit",
   "language": "python",
   "name": "python3"
  },
  "language_info": {
   "codemirror_mode": {
    "name": "ipython",
    "version": 3
   },
   "file_extension": ".py",
   "mimetype": "text/x-python",
   "name": "python",
   "nbconvert_exporter": "python",
   "pygments_lexer": "ipython3",
   "version": "3.10.0"
  },
  "orig_nbformat": 4
 },
 "nbformat": 4,
 "nbformat_minor": 2
}
