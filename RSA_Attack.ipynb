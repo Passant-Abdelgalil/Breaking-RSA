{
 "cells": [
  {
   "cell_type": "code",
   "execution_count": 1,
   "metadata": {},
   "outputs": [],
   "source": [
    "# brute force attack\n",
    "\n",
    "# from itertools import product\n",
    "\n",
    "# alphabets_char_numbers = ['a', 'b', 'c', 'd', 'e', 'f', 'g', 'h', 'i', 'j', 'k', 'l', 'm', 'n', \n",
    "# 'o', 'p', 'q', 'r', 's', 't', 'u', 'v', 'w', 'x', 'y', 'z','0','1','2','3', '4','5','6','7','8','9',\n",
    "# '!','@','#','$','%','^','&','*','(',')','-','_','=','+',',',';',':','/','.','<','>'\n",
    "# ]\n",
    "#  # chars to look for\n",
    "\n",
    "# message='$%rema'\n",
    "# found=0\n",
    "\n",
    "# for length in range(1, 10): # only do lengths of 1 + 2\n",
    "#     to_attempt = product(alphabets_char_numbers, repeat=length)\n",
    "#     for attempt in to_attempt:\n",
    "#         if message==''.join(attempt):\n",
    "#             found=1\n",
    "#             print(''.join(attempt))\n",
    "#             break\n",
    "\n",
    "#     if found ==1:\n",
    "#         break"
   ]
  },
  {
   "cell_type": "code",
   "execution_count": 2,
   "metadata": {},
   "outputs": [],
   "source": [
    "import RSA\n"
   ]
  },
  {
   "cell_type": "code",
   "execution_count": 3,
   "metadata": {},
   "outputs": [],
   "source": [
    "def checkPrime(num):\n",
    "    if num > 1:\n",
    "        for i in range(2, num//2):\n",
    "            if (num % i) == 0:\n",
    "                return 0 #not prime\n",
    "                break\n",
    "            else:\n",
    "                return 1 #prime\n",
    "    else:\n",
    "        return 0 #not prime"
   ]
  },
  {
   "cell_type": "code",
   "execution_count": 4,
   "metadata": {},
   "outputs": [],
   "source": [
    "def getFactors(number, rangeF,rangeL):\n",
    "    factors=[]\n",
    "    for whole_number in range(rangeF, rangeL):\n",
    "        if number % whole_number == 0:\n",
    "            if(checkPrime(whole_number) ):\n",
    "                factors.append(whole_number)\n",
    "    return factors"
   ]
  },
  {
   "cell_type": "code",
   "execution_count": 17,
   "metadata": {},
   "outputs": [],
   "source": [
    "def MAth_Attack(c, n, e):\n",
    "    listOfFactors=getFactors(n,1,1000000) #search for the small prime facor\n",
    "    # listOfFactors=getFactors(n,1,100000000000000000000000000000000000000000000000000000000000000000000000000000) #search for the large prime facor\n",
    "    for p in listOfFactors:\n",
    "        q=n//p\n",
    "        m = RSA.RSA_Decrypt(c, p, q, e)\n",
    "        c1= RSA.RSA_Encrypt(m,p, q,e)\n",
    "        if c1 == c :\n",
    "            return m\n",
    "    return \"can't know the message\""
   ]
  },
  {
   "cell_type": "code",
   "execution_count": 18,
   "metadata": {},
   "outputs": [
    {
     "name": "stdout",
     "output_type": "stream",
     "text": [
      "Take care ! You are watched !\n"
     ]
    }
   ],
   "source": [
    "p = 101 # for small prime\n",
    "q=18298970732541109011012304219376080251334480295537316123696052970419466495220522723330315111017831737980079504337868198011077274303193766040393009648852841770668239779097280026631944319501437547002412556176186750790476901358334138818777298389724049250700606462316428106882097210008142941838672676714188593227684360287806974345181893018133710957167334490627178666071809992955566020058374505477745993383434501768887090900283569055646901291270870833498474402084748161755197005050874785474707550376333429671113753137201128897550014524209754619355308207537703754006699795711188492048286436285518105948050401762394690148387\n",
    "n= p*q\n",
    "exponent = 23917\n",
    "ciphertext = RSA.RSA_Encrypt(\"Take care ! You are watched !\", p,q, exponent)\n",
    "\n",
    "# attacker only know n and e\n",
    "mesg_guessed_byAttacker=MAth_Attack(ciphertext, n, exponent)\n",
    "print(mesg_guessed_byAttacker)\n"
   ]
  }
 ],
 "metadata": {
  "interpreter": {
   "hash": "369f2c481f4da34e4445cda3fffd2e751bd1c4d706f27375911949ba6bb62e1c"
  },
  "kernelspec": {
   "display_name": "Python 3.10.0 64-bit",
   "language": "python",
   "name": "python3"
  },
  "language_info": {
   "codemirror_mode": {
    "name": "ipython",
    "version": 3
   },
   "file_extension": ".py",
   "mimetype": "text/x-python",
   "name": "python",
   "nbconvert_exporter": "python",
   "pygments_lexer": "ipython3",
   "version": "3.10.0"
  },
  "orig_nbformat": 4
 },
 "nbformat": 4,
 "nbformat_minor": 2
}
