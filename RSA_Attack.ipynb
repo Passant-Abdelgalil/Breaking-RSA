{
 "cells": [
  {
   "cell_type": "code",
   "execution_count": 1,
   "metadata": {},
   "outputs": [],
   "source": [
    "# brute force attack\n",
    "\n",
    "# from itertools import product\n",
    "\n",
    "# alphabets_char_numbers = ['a', 'b', 'c', 'd', 'e', 'f', 'g', 'h', 'i', 'j', 'k', 'l', 'm', 'n', \n",
    "# 'o', 'p', 'q', 'r', 's', 't', 'u', 'v', 'w', 'x', 'y', 'z','0','1','2','3', '4','5','6','7','8','9',\n",
    "# '!','@','#','$','%','^','&','*','(',')','-','_','=','+',',',';',':','/','.','<','>'\n",
    "# ]\n",
    "#  # chars to look for\n",
    "\n",
    "# message='$%rema'\n",
    "# found=0\n",
    "\n",
    "# for length in range(1, 10): # only do lengths of 1 + 2\n",
    "#     to_attempt = product(alphabets_char_numbers, repeat=length)\n",
    "#     for attempt in to_attempt:\n",
    "#         if message==''.join(attempt):\n",
    "#             found=1\n",
    "#             print(''.join(attempt))\n",
    "#             break\n",
    "\n",
    "#     if found ==1:\n",
    "#         break"
   ]
  },
  {
   "cell_type": "code",
   "execution_count": 2,
   "metadata": {},
   "outputs": [],
   "source": [
    "# import numpy as np\n",
    "# import matplotlib.pyplot as plt\n",
    "\n",
    "# x = np.array([5, 4, 1, 4, 5])\n",
    "# y = np.sort(x)\n",
    "\n",
    "# plt.title(\"Line graph\")\n",
    "# plt.plot(x, y, color=\"red\")\n",
    "\n",
    "# plt.show()"
   ]
  },
  {
   "cell_type": "code",
   "execution_count": 11,
   "metadata": {},
   "outputs": [],
   "source": [
    "import RSA\n",
    "import timeit\n",
    "import random\n",
    "import numpy as np\n",
    "import matplotlib.pyplot as plt\n",
    "\n"
   ]
  },
  {
   "cell_type": "code",
   "execution_count": 4,
   "metadata": {},
   "outputs": [],
   "source": [
    "def checkPrime(num):\n",
    "    if num > 1:\n",
    "        for i in range(2, num//2):\n",
    "            if (num % i) == 0:\n",
    "                return 0 #not prime\n",
    "                break\n",
    "            else:\n",
    "                return 1 #prime\n",
    "    else:\n",
    "        return 0 #not prime"
   ]
  },
  {
   "cell_type": "code",
   "execution_count": 5,
   "metadata": {},
   "outputs": [],
   "source": [
    "# def getFactors(number, rangeF,rangeL):\n",
    "#     factors=[]\n",
    "#     for whole_number in range(rangeF, rangeL):\n",
    "#         if number % whole_number == 0:\n",
    "#             if(checkPrime(whole_number) ):\n",
    "#                 factors.append(whole_number)\n",
    "#     return factors"
   ]
  },
  {
   "cell_type": "code",
   "execution_count": 6,
   "metadata": {},
   "outputs": [],
   "source": [
    "def MAth_Attack(c, n, e):\n",
    "    # listOfFactors=getFactors(n,1,1000000) #search for the small prime facor\n",
    "    # listOfFactors=getFactors(n,1, n) #search for the large prime facor\n",
    "    #76327548707654631819288365217926676480014891572829522940868712753524331330993\n",
    "    for p in range(1, n):\n",
    "        if n % p == 0:\n",
    "            if(checkPrime(p)):\n",
    "                q=n//p\n",
    "                m = RSA.RSA_Decrypt(c, p, q, e)\n",
    "                c1= RSA.RSA_Encrypt(m,p, q,e)\n",
    "                if c1 == c :\n",
    "                    return m\n",
    "    return \"can't know the message\""
   ]
  },
  {
   "cell_type": "code",
   "execution_count": 9,
   "metadata": {},
   "outputs": [],
   "source": [
    "def generate_two_large_primes(n):\n",
    "    arr=[0,0]\n",
    "    for i in range(2):\n",
    "        while True:\n",
    "            #n = 256\n",
    "            prime_candidate = RSA.getLowLevelPrime(n)\n",
    "            if not RSA.isMillerRabinPassed(prime_candidate):\n",
    "                continue\n",
    "            else:\n",
    "                # print(n, \"bit prime is: \\n\", prime_candidate)\n",
    "                arr[i]=prime_candidate\n",
    "                break\n",
    "    return arr"
   ]
  },
  {
   "cell_type": "code",
   "execution_count": null,
   "metadata": {},
   "outputs": [],
   "source": []
  },
  {
   "cell_type": "code",
   "execution_count": 100,
   "metadata": {},
   "outputs": [
    {
     "name": "stdout",
     "output_type": "stream",
     "text": [
      "time:  0.0001081000000340282  message:  a  n bits:  9\n",
      "time:  0.0007249000000228989  message:  ab  n bits:  12\n",
      "time:  0.021552299999711977  message:  abc  n bits:  16\n",
      "time:  0.03410580000036134  message:  abcd  n bits:  17\n",
      "time:  0.2102111000003788  message:  ZZZZZ  n bits:  20\n",
      "time:  4.9662709000003815  message:  reem12  n bits:  24\n",
      "time:  121.8052516000007  message:  reema12  n bits:  29\n",
      "time:  15770.7749711  message:  reema123  n bits:  34\n"
     ]
    },
    {
     "data": {
      "image/png": "[encoded data removed]",
      "text/plain": [
       "<Figure size 432x288 with 1 Axes>"
      ]
     },
     "metadata": {
      "needs_background": "light"
     },
     "output_type": "display_data"
    }
   ],
   "source": [
    "arr_nBits=[9,12,16,17,20,24,29,34]\n",
    "arr_message=[\"a\",\"ab\",\"abc\",'abcd', 'ZZZZZ','reem12','reema12','reema123']\n",
    "arr_time=np.zeros(len(arr_nBits))\n",
    "arr_n=np.zeros(len(arr_nBits))\n",
    "\n",
    "for i in range(len(arr_nBits)):\n",
    "    p,q=generate_two_large_primes(arr_nBits[i])\n",
    "    n=pq\n",
    "    arr_n[i]=n\n",
    "    phi_n=(p-1)(q-1) \n",
    "\n",
    "    # generate e\n",
    "    # exponent = 23917\n",
    "    d=0\n",
    "    while d != 1:\n",
    "        exponent=random.randrange(2,phi_n)\n",
    "        d,x,y=RSA.extended_gcd(exponent,phi_n)\n",
    "\n",
    "    ciphertext = RSA.RSA_Encrypt(arr_message[i], n, exponent)\n",
    "    #m:6 letters, n:64 bit\n",
    "\n",
    "    start = timeit.default_timer() \n",
    "    # attacker only know n and e\n",
    "    mesg_guessed_byAttacker=MAth_Attack(ciphertext, n, exponent)\n",
    "    arr_time[i]= timeit.default_timer()  - start\n",
    "    print('time: ',arr_time[i],' message: ',mesg_guessed_byAttacker, ' p/q bits: ',arr_nBits[i], ' n: ',arr_n[i])\n",
    "\n",
    "plt.title(\"Time taken by attack versus n\")\n",
    "plt.plot(arr_n, arr_time, color=\"red\")\n",
    "plt.ylabel(\"Time\")\n",
    "plt.xlabel(\"n\")\n",
    "plt.show()"
   ]
  }
 ],
 "metadata": {
  "interpreter": {
   "hash": "369f2c481f4da34e4445cda3fffd2e751bd1c4d706f27375911949ba6bb62e1c"
  },
  "kernelspec": {
   "display_name": "Python 3.10.0 64-bit",
   "language": "python",
   "name": "python3"
  },
  "language_info": {
   "codemirror_mode": {
    "name": "ipython",
    "version": 3
   },
   "file_extension": ".py",
   "mimetype": "text/x-python",
   "name": "python",
   "nbconvert_exporter": "python",
   "pygments_lexer": "ipython3",
   "version": "3.10.0"
  },
  "orig_nbformat": 4
 },
 "nbformat": 4,
 "nbformat_minor": 2
}
